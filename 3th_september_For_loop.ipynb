{
  "nbformat": 4,
  "nbformat_minor": 0,
  "metadata": {
    "colab": {
      "provenance": []
    },
    "kernelspec": {
      "name": "python3",
      "display_name": "Python 3"
    },
    "language_info": {
      "name": "python"
    }
  },
  "cells": [
    {
      "cell_type": "code",
      "execution_count": null,
      "metadata": {
        "id": "GNJzW35OvVtD"
      },
      "outputs": [],
      "source": [
        "#Basic Level:"
      ]
    },
    {
      "cell_type": "code",
      "source": [
        "#Q.1. Write a Python program to print the numbers from 1 to 10 using a `for` loop."
      ],
      "metadata": {
        "id": "JMviqtvcvv_-"
      },
      "execution_count": null,
      "outputs": []
    },
    {
      "cell_type": "code",
      "source": [
        "for i in range(1,11):\n",
        "  print(i , end= \" \")"
      ],
      "metadata": {
        "colab": {
          "base_uri": "https://localhost:8080/"
        },
        "id": "oVv60fJ_vzXT",
        "outputId": "1d83bad6-eb03-4330-c935-18756b124459"
      },
      "execution_count": null,
      "outputs": [
        {
          "output_type": "stream",
          "name": "stdout",
          "text": [
            "1 2 3 4 5 6 7 8 9 10 "
          ]
        }
      ]
    },
    {
      "cell_type": "code",
      "source": [
        "#Q.2. Create a program that calculates the sum of all numbers in a list using a `for` loop."
      ],
      "metadata": {
        "id": "oz9K65ysv-_E"
      },
      "execution_count": null,
      "outputs": []
    },
    {
      "cell_type": "code",
      "source": [
        "a=[1,2,3,4,5,6,7,8,9,10]\n",
        "count=0\n",
        "for i in a:\n",
        "  count+=i\n",
        "print(count)\n"
      ],
      "metadata": {
        "colab": {
          "base_uri": "https://localhost:8080/"
        },
        "id": "7XAPVftmwE7y",
        "outputId": "c2327aec-a3f3-403a-89b7-c25dbcc2687f"
      },
      "execution_count": null,
      "outputs": [
        {
          "output_type": "stream",
          "name": "stdout",
          "text": [
            "55\n"
          ]
        }
      ]
    },
    {
      "cell_type": "code",
      "source": [
        "#Q.3. Write a program to print the characters of a string in reverse order using a `for` loop."
      ],
      "metadata": {
        "id": "3jipQjOUwszy"
      },
      "execution_count": null,
      "outputs": []
    },
    {
      "cell_type": "code",
      "source": [
        "a = \"pwskills\"\n",
        "r_a =\"\"\n",
        "for i in reversed(a):\n",
        "  r_a+=i\n",
        "print(r_a)\n"
      ],
      "metadata": {
        "colab": {
          "base_uri": "https://localhost:8080/"
        },
        "id": "b2elL6TXw0_Z",
        "outputId": "03567ce0-6f28-4980-d089-51d494568e6d"
      },
      "execution_count": null,
      "outputs": [
        {
          "output_type": "stream",
          "name": "stdout",
          "text": [
            "sllikswp\n"
          ]
        }
      ]
    },
    {
      "cell_type": "code",
      "source": [
        "#Q.4. Develop a program that finds the factorial of a given number using a `for` loop."
      ],
      "metadata": {
        "id": "1xRVu7oaxc99"
      },
      "execution_count": null,
      "outputs": []
    },
    {
      "cell_type": "code",
      "source": [
        "a=4\n",
        "fact =1\n",
        "for i in range(1,a+1):\n",
        "  fact*=i // formula of factorial\n",
        "print(fact)"
      ],
      "metadata": {
        "colab": {
          "base_uri": "https://localhost:8080/"
        },
        "id": "RPW9T2ioxw8t",
        "outputId": "12c441ad-4876-4094-f9e2-3a8d26e21d13"
      },
      "execution_count": null,
      "outputs": [
        {
          "output_type": "stream",
          "name": "stdout",
          "text": [
            "24\n"
          ]
        }
      ]
    },
    {
      "cell_type": "code",
      "source": [
        "#Q.5. Create a program to print the multiplication table of a given number using a `for` loop."
      ],
      "metadata": {
        "id": "qfqby4G2y0sg"
      },
      "execution_count": null,
      "outputs": []
    },
    {
      "cell_type": "code",
      "source": [
        "a= int(input(\"Enter : \"))\n",
        "for i in range(1,11):\n",
        "  result = a*i\n",
        "  print(result)\n"
      ],
      "metadata": {
        "colab": {
          "base_uri": "https://localhost:8080/"
        },
        "id": "DId_OZj0y2B8",
        "outputId": "c5e618df-f6b6-480f-9c0a-15f6b600eb86"
      },
      "execution_count": null,
      "outputs": [
        {
          "output_type": "stream",
          "name": "stdout",
          "text": [
            "Enter : 3\n",
            "3\n",
            "6\n",
            "9\n",
            "12\n",
            "15\n",
            "18\n",
            "21\n",
            "24\n",
            "27\n",
            "30\n"
          ]
        }
      ]
    },
    {
      "cell_type": "code",
      "source": [
        "#Q.6. Write a program that counts the number of evbers in a en and odd numlist using a `for` loop."
      ],
      "metadata": {
        "id": "Bwry4I-VzzAd"
      },
      "execution_count": null,
      "outputs": []
    },
    {
      "cell_type": "code",
      "source": [
        "# Input list of numbers\n",
        "numbers = [1, 2, 3, 4, 5, 6, 7, 8, 9]\n",
        "\n",
        "# Initialize counters for even and odd numbers\n",
        "even_count = 0\n",
        "odd_count = 0\n",
        "\n",
        "# Iterate through the list using a for loop\n",
        "for number in numbers:\n",
        "    if number % 2 == 0:\n",
        "        even_count += 1  # Increment the even count if the number is even\n",
        "    else:\n",
        "        odd_count += 1   # Increment the odd count if the number is odd\n",
        "\n",
        "# Print the counts\n",
        "print(\"Number of even numbers:\", even_count)\n",
        "print(\"Number of odd numbers:\", odd_count)\n"
      ],
      "metadata": {
        "colab": {
          "base_uri": "https://localhost:8080/"
        },
        "id": "RLup_4vTz61s",
        "outputId": "4fe7b0c6-9f87-43fb-a5ff-a830b76ef87d"
      },
      "execution_count": null,
      "outputs": [
        {
          "output_type": "stream",
          "name": "stdout",
          "text": [
            "Number of even numbers: 4\n",
            "Number of odd numbers: 5\n"
          ]
        }
      ]
    },
    {
      "cell_type": "code",
      "source": [
        "#Q.7. Develop a program that prints the squares of numbers from 1 to 5 using a `for` loop."
      ],
      "metadata": {
        "id": "iMVcg9tP1Zc9"
      },
      "execution_count": null,
      "outputs": []
    },
    {
      "cell_type": "code",
      "source": [
        "a=[i**2 for i in range(1,6)]\n",
        "print(a)"
      ],
      "metadata": {
        "colab": {
          "base_uri": "https://localhost:8080/"
        },
        "id": "208fEwte1fG6",
        "outputId": "b59c5bf7-09be-49b9-dcd7-810576dd2b7e"
      },
      "execution_count": null,
      "outputs": [
        {
          "output_type": "stream",
          "name": "stdout",
          "text": [
            "[1, 4, 9, 16, 25]\n"
          ]
        }
      ]
    },
    {
      "cell_type": "code",
      "source": [
        "#Q.8. Create a program to find the length of a string without using the `len()` function."
      ],
      "metadata": {
        "id": "YwaGTvfi1qaK"
      },
      "execution_count": null,
      "outputs": []
    },
    {
      "cell_type": "code",
      "source": [
        "string ='uday'\n",
        "count =0\n",
        "for i in string:\n",
        "  count+=1\n",
        "print(count)"
      ],
      "metadata": {
        "colab": {
          "base_uri": "https://localhost:8080/"
        },
        "id": "6xc_jI6A1vN3",
        "outputId": "6af04553-fbad-4ec9-d8fa-832cee0be1a8"
      },
      "execution_count": null,
      "outputs": [
        {
          "output_type": "stream",
          "name": "stdout",
          "text": [
            "4\n"
          ]
        }
      ]
    },
    {
      "cell_type": "code",
      "source": [
        "#Q.9. Write a program that calculates the average of a list of numbers using a `for` loop."
      ],
      "metadata": {
        "id": "mgWwi3F62BZt"
      },
      "execution_count": null,
      "outputs": []
    },
    {
      "cell_type": "code",
      "source": [
        "n = [1, 2, 3, 4, 5, 6, 7, 8, 9,10]\n",
        "total =0\n",
        "count =0\n",
        "for i in n:\n",
        "  total+=i\n",
        "  count+=1\n",
        "\n",
        "if count >0:\n",
        "  a=total/count\n",
        "print(\"the average of list is\",a)\n",
        "\n"
      ],
      "metadata": {
        "colab": {
          "base_uri": "https://localhost:8080/"
        },
        "id": "v9_blhe32JEy",
        "outputId": "bf540e66-5e1e-4fa4-9c3f-265d33bd8d66"
      },
      "execution_count": null,
      "outputs": [
        {
          "output_type": "stream",
          "name": "stdout",
          "text": [
            "the average of list is 5.5\n"
          ]
        }
      ]
    },
    {
      "cell_type": "code",
      "source": [
        "#Q.10. Develop a program that prints the first `n` Fibonacci numbers using a `for` loop."
      ],
      "metadata": {
        "id": "hE2WZgdK3Eh1"
      },
      "execution_count": null,
      "outputs": []
    },
    {
      "cell_type": "code",
      "source": [
        "# Input: Get the value of n from the user\n",
        "n = int(input(\"Enter the number of Fibonacci numbers to generate: \"))\n",
        "\n",
        "# Initialize the first two Fibonacci numbers\n",
        "fibonacci_sequence = [0, 1]\n",
        "\n",
        "# Generate the Fibonacci sequence using a for loop\n",
        "for i in range(2, n):\n",
        "    next_fibonacci = fibonacci_sequence[-1] + fibonacci_sequence[-2]\n",
        "    fibonacci_sequence.append(next_fibonacci)\n",
        "\n",
        "print(fibonacci_sequence)\n",
        "\n"
      ],
      "metadata": {
        "colab": {
          "base_uri": "https://localhost:8080/"
        },
        "id": "s5tNc-Le3fbj",
        "outputId": "bde03b74-f4e3-44a1-c057-39695e0003d7"
      },
      "execution_count": null,
      "outputs": [
        {
          "output_type": "stream",
          "name": "stdout",
          "text": [
            "Enter the number of Fibonacci numbers to generate: 5\n",
            "[0, 1, 1, 2, 3]\n"
          ]
        }
      ]
    },
    {
      "cell_type": "code",
      "source": [
        "#Intermediate Level:"
      ],
      "metadata": {
        "id": "Czp7rswt4Lxu"
      },
      "execution_count": null,
      "outputs": []
    },
    {
      "cell_type": "code",
      "source": [
        "#Q.11. Write a program to check if a given list contains any duplicates using a `for` loop."
      ],
      "metadata": {
        "id": "Vnpx6Zo67EiI"
      },
      "execution_count": null,
      "outputs": []
    },
    {
      "cell_type": "code",
      "source": [
        "# Input list\n",
        "my_list = [1, 2, 3, 4]\n",
        "\n",
        "# Convert the list to a set\n",
        "my_set = set(my_list)\n",
        "\n",
        "# Check if the length of the set is different from the length of the list\n",
        "if len(my_set) != len(my_list):\n",
        "    print(\"The list contains duplicates.\")\n",
        "else:\n",
        "    print(\"The list does not contain duplicates.\")\n"
      ],
      "metadata": {
        "colab": {
          "base_uri": "https://localhost:8080/"
        },
        "id": "pKHik2Uq7nGj",
        "outputId": "d81e30c6-39d3-430a-e325-a654960610c6"
      },
      "execution_count": null,
      "outputs": [
        {
          "output_type": "stream",
          "name": "stdout",
          "text": [
            "The list does not contain duplicates.\n"
          ]
        }
      ]
    },
    {
      "cell_type": "code",
      "source": [
        "#Q.12. Create a program that prints the prime numbers in a given range using a `for` loop."
      ],
      "metadata": {
        "id": "6ddgNxMQ-M3h"
      },
      "execution_count": null,
      "outputs": []
    },
    {
      "cell_type": "code",
      "source": [
        "# Input: Get the range from the user\n",
        "start = int(input(\"Enter the start of the range: \"))\n",
        "end = int(input(\"Enter the end of the range: \"))\n",
        "\n",
        "print(\"Prime numbers in the range\", start, \"to\", end, \"are:\")\n",
        "\n",
        "# Use a for loop to iterate through the range\n",
        "for num in range(start, end + 1):\n",
        "    if num > 1:\n",
        "        is_prime = True\n",
        "        for i in range(2, num):\n",
        "            if num % i == 0:\n",
        "                is_prime = False\n",
        "                break\n",
        "        if is_prime:\n",
        "            print(num)\n"
      ],
      "metadata": {
        "colab": {
          "base_uri": "https://localhost:8080/"
        },
        "id": "AdDYeYfa-pGV",
        "outputId": "011227b6-d4d1-476e-ebfd-6c5223297bd9"
      },
      "execution_count": null,
      "outputs": [
        {
          "output_type": "stream",
          "name": "stdout",
          "text": [
            "Enter the start of the range: 1\n",
            "Enter the end of the range: 10\n",
            "Prime numbers in the range 1 to 10 are:\n",
            "2\n",
            "3\n",
            "5\n",
            "7\n"
          ]
        }
      ]
    },
    {
      "cell_type": "code",
      "source": [
        "#Q.13. Develop a program that counts the number of vowels in a string using a `for` loop."
      ],
      "metadata": {
        "id": "8XyZI74z_aHE"
      },
      "execution_count": null,
      "outputs": []
    },
    {
      "cell_type": "code",
      "source": [
        "string = 'pwskills'\n",
        "count =0\n",
        "for i in string:\n",
        "  if i=='a' or i=='e' or i=='i' or i=='o'  or i=='u':\n",
        "    count+=1\n",
        "print(count)"
      ],
      "metadata": {
        "colab": {
          "base_uri": "https://localhost:8080/"
        },
        "id": "VqdV_I0y_ikW",
        "outputId": "70d79d31-a1ac-4cb1-b6be-8425ab7d60bc"
      },
      "execution_count": null,
      "outputs": [
        {
          "output_type": "stream",
          "name": "stdout",
          "text": [
            "1\n"
          ]
        }
      ]
    },
    {
      "cell_type": "code",
      "source": [
        "#Q.14. Write a program to find the maximum element in a 2D list using a nested `for` loop."
      ],
      "metadata": {
        "id": "aQPujZ6TAYps"
      },
      "execution_count": null,
      "outputs": []
    },
    {
      "cell_type": "code",
      "source": [
        "# Input 2D list\n",
        "matrix = [\n",
        "    [1, 2, 3],\n",
        "    [4, 9, 6],\n",
        "    [7, 8, 5]\n",
        "]\n",
        "\n",
        "# Initialize a variable to store the maximum element\n",
        "max_element = matrix[0][0]  # Assume the first element as the maximum\n",
        "\n",
        "# Use nested for loops to iterate through the 2D list\n",
        "for row in matrix:\n",
        "    for element in row:\n",
        "        if element > max_element:\n",
        "            max_element = element\n",
        "\n",
        "# Print the maximum element\n",
        "print(\"Maximum element in the 2D list is:\", max_element)\n"
      ],
      "metadata": {
        "colab": {
          "base_uri": "https://localhost:8080/"
        },
        "id": "AUhwwnfTBcsS",
        "outputId": "9de8d4fe-3e1a-4f76-db7f-bca5f5ce1d47"
      },
      "execution_count": null,
      "outputs": [
        {
          "output_type": "stream",
          "name": "stdout",
          "text": [
            "Maximum element in the 2D list is: 9\n"
          ]
        }
      ]
    },
    {
      "cell_type": "code",
      "source": [
        "#Q.15. Create a program that removes all occurrences of a specific element from a list using a `for` loop."
      ],
      "metadata": {
        "id": "3K4Zgi1BC8wL"
      },
      "execution_count": null,
      "outputs": []
    },
    {
      "cell_type": "code",
      "source": [
        "# Input list\n",
        "my_list = [1, 2, 3, 4, 2, 5, 6, 2, 7, 8, 9]\n",
        "\n",
        "# Input element to be removed\n",
        "element_to_remove = int(input(\"Enter the element to remove: \"))\n",
        "\n",
        "# Use a for loop to iterate through the list and remove the element\n",
        "new_list = []\n",
        "for element in my_list:\n",
        "    if element != element_to_remove:\n",
        "        new_list.append(element)\n",
        "\n",
        "# Print the list after removal\n",
        "print(\"List after removing all occurrences of\", element_to_remove, \":\", new_list)\n"
      ],
      "metadata": {
        "id": "1I230ENECm1J"
      },
      "execution_count": null,
      "outputs": []
    },
    {
      "cell_type": "code",
      "source": [
        "#Q.16. Develop a program that generates a multiplication table for numbers from 1 to 5 using a nested `for` loop."
      ],
      "metadata": {
        "id": "h4w0kqoNNUAw"
      },
      "execution_count": null,
      "outputs": []
    },
    {
      "cell_type": "code",
      "source": [
        "for i in range(1,6):\n",
        "  for j in range(1,6):\n",
        "    a=i*j\n",
        "    print(a, end =\" \")\n",
        "  print()"
      ],
      "metadata": {
        "colab": {
          "base_uri": "https://localhost:8080/"
        },
        "id": "YQSNx56sNcl2",
        "outputId": "ff63a52a-92e2-47c3-d624-81d66f05a728"
      },
      "execution_count": null,
      "outputs": [
        {
          "output_type": "stream",
          "name": "stdout",
          "text": [
            "1 2 3 4 5 \n",
            "2 4 6 8 10 \n",
            "3 6 9 12 15 \n",
            "4 8 12 16 20 \n",
            "5 10 15 20 25 \n"
          ]
        }
      ]
    },
    {
      "cell_type": "code",
      "source": [
        "#Q.17. Write a program that converts a list of Fahrenheit temperatures to Celsius using a `for` loop."
      ],
      "metadata": {
        "id": "nY3vju4iN-Ej"
      },
      "execution_count": null,
      "outputs": []
    },
    {
      "cell_type": "code",
      "source": [
        "fahrenheit_temperatures = [-10, 0, 32, 50, 68, 86, 100]\n",
        "celsius_temp =[]\n",
        "for i in fahrenheit_temperatures:\n",
        "  celsius = (i - 32) * 5/9\n",
        "  celsius_temp.append(celsius)\n",
        "\n",
        "print(celsius_temp)"
      ],
      "metadata": {
        "colab": {
          "base_uri": "https://localhost:8080/"
        },
        "id": "dAvEbFDkOGXM",
        "outputId": "4b93eb3c-273a-4129-a293-000b4089adb2"
      },
      "execution_count": null,
      "outputs": [
        {
          "output_type": "stream",
          "name": "stdout",
          "text": [
            "[-23.333333333333332, -17.77777777777778, 0.0, 10.0, 20.0, 30.0, 37.77777777777778]\n"
          ]
        }
      ]
    },
    {
      "cell_type": "code",
      "source": [
        "#Q.18. Create a program to print the common elements from two lists using a `for` loop."
      ],
      "metadata": {
        "id": "Hiph_au8PPeq"
      },
      "execution_count": null,
      "outputs": []
    },
    {
      "cell_type": "code",
      "source": [
        "a=[1,2,3,4,5,6]\n",
        "b=[9,8,7,6,5,4]\n",
        "common=[]\n",
        "for a in a:\n",
        "  if a in b:\n",
        "   common.append(a)\n",
        "print(common)"
      ],
      "metadata": {
        "colab": {
          "base_uri": "https://localhost:8080/"
        },
        "id": "K76-Hyz-PU9n",
        "outputId": "362cc66d-1d15-4721-a0cb-e749e0909263"
      },
      "execution_count": null,
      "outputs": [
        {
          "output_type": "stream",
          "name": "stdout",
          "text": [
            "[4, 5, 6]\n"
          ]
        }
      ]
    },
    {
      "cell_type": "code",
      "source": [
        "#Q.19. Develop a program that prints the pattern of right-angled triangles using a `for` loop. Use ‘*’ to draw the pattern"
      ],
      "metadata": {
        "id": "sXuTIaq9QIT2"
      },
      "execution_count": null,
      "outputs": []
    },
    {
      "cell_type": "code",
      "source": [
        "for i in range(1,6):\n",
        "  for j in range(i):\n",
        "    print(\"*\", end=\" \")\n",
        "  print()"
      ],
      "metadata": {
        "colab": {
          "base_uri": "https://localhost:8080/"
        },
        "id": "N0tsxGGZQQMx",
        "outputId": "2731e4d4-e84b-46bd-8105-f6136b79dc52"
      },
      "execution_count": null,
      "outputs": [
        {
          "output_type": "stream",
          "name": "stdout",
          "text": [
            "* \n",
            "* * \n",
            "* * * \n",
            "* * * * \n",
            "* * * * * \n"
          ]
        }
      ]
    },
    {
      "cell_type": "code",
      "source": [
        "#Q.20. Write a program to find the greatest common divisor (GCD) of two numbers using a `for` loop."
      ],
      "metadata": {
        "id": "ygQU1muQQvqH"
      },
      "execution_count": null,
      "outputs": []
    },
    {
      "cell_type": "code",
      "source": [
        "# Input two numbers\n",
        "num1 = int(input(\"Enter the first number: \"))\n",
        "num2 = int(input(\"Enter the second number: \"))\n",
        "\n",
        "# Ensure num1 is greater than or equal to num2\n",
        "if num1 < num2:\n",
        "    num1, num2 = num2, num1\n",
        "\n",
        "# Calculate the GCD\n",
        "while num2 != 0:\n",
        "    # Use the Euclidean algorithm to find the remainder\n",
        "    remainder = num1 % num2\n",
        "\n",
        "    # Update num1 with num2 and num2 with the remainder\n",
        "    num1 = num2\n",
        "    num2 = remainder\n",
        "\n",
        "# The GCD is stored in num1 at this point\n",
        "# Print the result\n",
        "print(f\"The GCD of the entered numbers is {num1}\")\n"
      ],
      "metadata": {
        "colab": {
          "base_uri": "https://localhost:8080/"
        },
        "id": "w1NVSoo8RHN5",
        "outputId": "982ea4e3-ea80-40b9-b31f-1aea12eeb635"
      },
      "execution_count": null,
      "outputs": [
        {
          "output_type": "stream",
          "name": "stdout",
          "text": [
            "Enter the first number: 45\n",
            "Enter the second number: 65\n",
            "The GCD of the entered numbers is 5\n"
          ]
        }
      ]
    },
    {
      "cell_type": "code",
      "source": [
        "#Q.21. Create a program that calculates the sum of the digits of numbers in a list using a list comprehension."
      ],
      "metadata": {
        "id": "3hRYkltTSG1G"
      },
      "execution_count": null,
      "outputs": []
    },
    {
      "cell_type": "code",
      "source": [
        "# Input a list of numbers as strings\n",
        "numbers = input(\"Enter a list of numbers separated by spaces: \").split()\n",
        "\n",
        "# Use a list comprehension to calculate the sum of digits for each number\n",
        "sums = [sum(int(digit) for digit in number) for number in numbers]\n",
        "\n",
        "# Print the result\n",
        "for i, number in enumerate(numbers):\n",
        "    print(f\"Sum of digits in {number}: {sums[i]}\")"
      ],
      "metadata": {
        "colab": {
          "base_uri": "https://localhost:8080/"
        },
        "id": "x6iPfTd2S75c",
        "outputId": "453b5f8d-eaa0-4390-e867-2ace7f67a10a"
      },
      "execution_count": null,
      "outputs": [
        {
          "output_type": "stream",
          "name": "stdout",
          "text": [
            "Enter a list of numbers separated by spaces: 123\n",
            "Sum of digits in 123: 6\n"
          ]
        }
      ]
    },
    {
      "cell_type": "code",
      "source": [
        "#Q.22. Write a program to find the prime factors of a given number using a `for` loop and list comprehension."
      ],
      "metadata": {
        "id": "sgXDtWU4TsGX"
      },
      "execution_count": null,
      "outputs": []
    },
    {
      "cell_type": "code",
      "source": [
        "# Input a number from the user\n",
        "num = int(input(\"Enter a number: \"))\n",
        "\n",
        "if num > 1:\n",
        "    prime_factors = []\n",
        "    for divisor in range(2, int(num**0.5) + 1):\n",
        "        while num % divisor == 0:\n",
        "            prime_factors.append(divisor)\n",
        "            num //= divisor\n",
        "\n",
        "    if num > 1:\n",
        "        prime_factors.append(num)\n",
        "\n",
        "    if prime_factors:\n",
        "        print(f\"The prime factors of {num} are: {prime_factors}\")\n",
        "    else:\n",
        "        print(f\"{num} is a prime number and has no prime factors.\")\n",
        "else:\n",
        "    print(\"Please enter a number greater than 1.\")\n"
      ],
      "metadata": {
        "id": "fF6Vd2z4UP9j"
      },
      "execution_count": null,
      "outputs": []
    },
    {
      "cell_type": "code",
      "source": [
        "#Q.23. Develop a program that extracts unique elements from a list and stores them in a new list using a list comprehension."
      ],
      "metadata": {
        "id": "PuoEA-tqdbtQ"
      },
      "execution_count": null,
      "outputs": []
    },
    {
      "cell_type": "code",
      "source": [
        "# Input a list of elements (you can modify this list as needed)\n",
        "original_list = [1, 2, 2, 3, 4, 4, 5, 6, 6]\n",
        "\n",
        "# Use a list comprehension to extract unique elements\n",
        "unique_elements = list(set(original_list))\n",
        "\n",
        "# Print the unique elements\n",
        "print(\"Original List:\", original_list)\n",
        "print(\"Unique Elements:\", unique_elements)"
      ],
      "metadata": {
        "colab": {
          "base_uri": "https://localhost:8080/"
        },
        "id": "mZR5x4PadmYb",
        "outputId": "f5462273-46f4-4935-cbb6-35434ed2043e"
      },
      "execution_count": null,
      "outputs": [
        {
          "output_type": "stream",
          "name": "stdout",
          "text": [
            "Original List: [1, 2, 2, 3, 4, 4, 5, 6, 6]\n",
            "Unique Elements: [1, 2, 3, 4, 5, 6]\n"
          ]
        }
      ]
    },
    {
      "cell_type": "code",
      "source": [
        "#Q.24. Create a program that generates a list of all palindromic numbers up to a specified limit using a list comprehension."
      ],
      "metadata": {
        "id": "izQ3eRpKevWZ"
      },
      "execution_count": null,
      "outputs": []
    },
    {
      "cell_type": "code",
      "source": [
        "# Input the upper limit\n",
        "limit = int(input(\"Enter the upper limit: \"))\n",
        "\n",
        "# Use a list comprehension to generate palindromic numbers\n",
        "palindromic_numbers = [num for num in range(1, limit + 1) if str(num) == str(num)[::-1]]\n",
        "\n",
        "# Print the list of palindromic numbers\n",
        "print(\"Palindromic Numbers up to\", limit, \":\", palindromic_numbers)\n"
      ],
      "metadata": {
        "id": "wRvjszqPe91B"
      },
      "execution_count": null,
      "outputs": []
    },
    {
      "cell_type": "code",
      "source": [
        "#Q.25. Write a program to flatten a nested list using list comprehension."
      ],
      "metadata": {
        "id": "Vyy-qzz7fSTy"
      },
      "execution_count": null,
      "outputs": []
    },
    {
      "cell_type": "code",
      "source": [
        "# Input a nested list (you can modify this list as needed)\n",
        "nested_list = [[1, 2, 3], [4, 5], [6, 7, 8]]\n",
        "\n",
        "# Initialize an empty list to store the flattened elements\n",
        "flattened_list = []\n",
        "\n",
        "# Use nested loops to flatten the nested list\n",
        "for sublist in nested_list:\n",
        "    for element in sublist:\n",
        "        flattened_list.append(element)\n",
        "\n",
        "# Print the flattened list\n",
        "print(\"Nested List:\", nested_list)\n",
        "print(\"Flattened List:\", flattened_list)\n"
      ],
      "metadata": {
        "colab": {
          "base_uri": "https://localhost:8080/"
        },
        "id": "aXyOw-KsfVl9",
        "outputId": "ce28d9bd-e105-4448-dbe9-66a132a8c04b"
      },
      "execution_count": null,
      "outputs": [
        {
          "output_type": "stream",
          "name": "stdout",
          "text": [
            "Nested List: [[1, 2, 3], [4, 5], [6, 7, 8]]\n",
            "Flattened List: [1, 2, 3, 4, 5, 6, 7, 8]\n"
          ]
        }
      ]
    },
    {
      "cell_type": "code",
      "source": [
        "#Q.26. Develop a program that computes the sum of even and odd numbers in a list separately using list comprehension."
      ],
      "metadata": {
        "id": "UDUWF_PFfwfx"
      },
      "execution_count": null,
      "outputs": []
    },
    {
      "cell_type": "code",
      "source": [
        "# Input a list of numbers (you can modify this list as needed)\n",
        "numbers = [1, 2, 3, 4, 5, 6, 7, 8, 9]\n",
        "\n",
        "# Initialize variables to store the sum of even and odd numbers\n",
        "even_sum = 0\n",
        "odd_sum = 0\n",
        "\n",
        "# Use for loop to compute the sum of even and odd numbers separately\n",
        "for num in numbers:\n",
        "    if num % 2 == 0:\n",
        "        even_sum += num\n",
        "    else:\n",
        "        odd_sum += num\n",
        "\n",
        "# Print the sums\n",
        "print(\"Original List:\", numbers)\n",
        "print(\"Sum of Even Numbers:\", even_sum)\n",
        "print(\"Sum of Odd Numbers:\", odd_sum)\n",
        "\n",
        "\n",
        "\n",
        "\n"
      ],
      "metadata": {
        "colab": {
          "base_uri": "https://localhost:8080/"
        },
        "id": "TSyPvreff2mz",
        "outputId": "805f2ea4-2508-4944-ce8f-d009209bcfb6"
      },
      "execution_count": null,
      "outputs": [
        {
          "output_type": "stream",
          "name": "stdout",
          "text": [
            "Original List: [1, 2, 3, 4, 5, 6, 7, 8, 9]\n",
            "Sum of Even Numbers: 20\n",
            "Sum of Odd Numbers: 25\n"
          ]
        }
      ]
    },
    {
      "cell_type": "code",
      "source": [
        "#Q.27. Create a program that generates a list of squares of odd numbers between 1 and 10 using list comprehension."
      ],
      "metadata": {
        "id": "grIQ0fx6hP3B"
      },
      "execution_count": null,
      "outputs": []
    },
    {
      "cell_type": "code",
      "source": [
        "for i in range(1,11):\n",
        "  if i%2!=0:\n",
        "    print(i**2)"
      ],
      "metadata": {
        "colab": {
          "base_uri": "https://localhost:8080/"
        },
        "id": "oiFTirPPgH4M",
        "outputId": "5aee5149-5ecb-4ab4-a29b-96c7a563b791"
      },
      "execution_count": null,
      "outputs": [
        {
          "output_type": "stream",
          "name": "stdout",
          "text": [
            "1\n",
            "9\n",
            "25\n",
            "49\n",
            "81\n"
          ]
        }
      ]
    },
    {
      "cell_type": "code",
      "source": [
        "#Q.28. Write a program that combines two lists into a dictionary using list comprehension."
      ],
      "metadata": {
        "id": "LN1Vf0KghsfG"
      },
      "execution_count": null,
      "outputs": []
    },
    {
      "cell_type": "code",
      "source": [
        "# Input two lists (you can modify these lists as needed)\n",
        "keys = ['name', 'age', 'city']\n",
        "values = ['uday', 19, 'jalgoan']\n",
        "\n",
        "# Initialize an empty dictionary\n",
        "combined_dict = {}\n",
        "\n",
        "# Use a for loop to combine the two lists into a dictionary\n",
        "for i in range(min(len(keys), len(values))):\n",
        "    combined_dict[keys[i]] = values[i]\n",
        "\n",
        "# Print the resulting dictionary\n",
        "print(\"Combined Dictionary:\", combined_dict)\n"
      ],
      "metadata": {
        "colab": {
          "base_uri": "https://localhost:8080/"
        },
        "id": "yGmlCA9IhxGH",
        "outputId": "a5761676-3976-42cf-c766-e31546678f3b"
      },
      "execution_count": null,
      "outputs": [
        {
          "output_type": "stream",
          "name": "stdout",
          "text": [
            "Combined Dictionary: {'name': 'uday', 'age': 19, 'city': 'jalgoan'}\n"
          ]
        }
      ]
    },
    {
      "cell_type": "code",
      "source": [
        "#Q.29. Develop a program that extracts the vowels from a string and stores them in a list using list comprehension."
      ],
      "metadata": {
        "id": "z6iJjPF6iYUT"
      },
      "execution_count": null,
      "outputs": []
    },
    {
      "cell_type": "code",
      "source": [
        "# Input a string (you can modify this string as needed)\n",
        "string = \"uday patil\"\n",
        "\n",
        "# Initialize an empty list to store vowels\n",
        "vowels = []\n",
        "\n",
        "# Use a for loop to extract vowels from the string\n",
        "for i in string:\n",
        "    if i.lower() in 'aeiou':\n",
        "        vowels.append(i)\n",
        "\n",
        "# Print the list of vowels\n",
        "print(\"Input String:\", string)\n",
        "print(\"Vowels:\", vowels)\n",
        "\n",
        "\n",
        "\n",
        "\n"
      ],
      "metadata": {
        "colab": {
          "base_uri": "https://localhost:8080/"
        },
        "id": "zEGUvXnHidYn",
        "outputId": "062ed813-1e5f-48d6-9d67-57b338c2c314"
      },
      "execution_count": null,
      "outputs": [
        {
          "output_type": "stream",
          "name": "stdout",
          "text": [
            "Input String: uday patil\n",
            "Vowels: ['u', 'a', 'a', 'i']\n"
          ]
        }
      ]
    },
    {
      "cell_type": "code",
      "source": [
        "#Q.30. Create a program that removes all non-numeric characters from a list of strings using list comprehension."
      ],
      "metadata": {
        "id": "Ay8r9UN_kA5f"
      },
      "execution_count": null,
      "outputs": []
    },
    {
      "cell_type": "code",
      "source": [
        "# Input a list of strings (you can modify this list as needed)\n",
        "string_list = ['uday123']\n",
        "\n",
        "# Initialize an empty list to store numeric strings\n",
        "numeric_strings = []\n",
        "\n",
        "# Use a for loop to remove non-numeric characters\n",
        "for string in string_list:\n",
        "    numeric_string = ''.join(char for char in string if char.isnumeric())\n",
        "    numeric_strings.append(numeric_string)\n",
        "\n",
        "# Print the list of numeric strings\n",
        "print(\"Original List:\", string_list)\n",
        "print(\"Numeric Strings:\", numeric_strings)\n",
        "\n"
      ],
      "metadata": {
        "colab": {
          "base_uri": "https://localhost:8080/"
        },
        "id": "VTUpw4t4kKUz",
        "outputId": "4ca3ac1b-cb0a-4402-d211-e97bfe0373ae"
      },
      "execution_count": null,
      "outputs": [
        {
          "output_type": "stream",
          "name": "stdout",
          "text": [
            "Original List: ['uday123']\n",
            "Numeric Strings: ['123']\n"
          ]
        }
      ]
    },
    {
      "cell_type": "code",
      "source": [
        "#Q.31. Write a program to generate a list of prime numbers using the Sieve of Eratosthenes algorithm and list comprehension."
      ],
      "metadata": {
        "id": "Yqsfv4xkkKed"
      },
      "execution_count": null,
      "outputs": []
    },
    {
      "cell_type": "code",
      "source": [
        "def sieve_of_eratosthenes(limit):\n",
        "  sieve = [True]*(limit+1)\n",
        "  sieve[0]= sieve[1] =False\n",
        "\n",
        "  for i in range(2, int(limit**0.5)+1):\n",
        "    if sieve[i]:\n",
        "      for j in range(i*i, limit+1,i):\n",
        "        sieve[j]=False\n",
        "\n",
        "    primes = [num for num, is_prime in enumerate(sieve) if is_prime]\n",
        "    return primes\n",
        "\n",
        "limit = int(input(\"Enter the limit to generate prime numbers up to: \"))\n",
        "\n",
        "prime_numbers = sieve_of_eratosthenes(limit)\n",
        "print(\"Prime numbers up to\", limit, \"are:\")\n",
        "print(prime_numbers)"
      ],
      "metadata": {
        "id": "7VE5PmQ4a-Ew",
        "colab": {
          "base_uri": "https://localhost:8080/"
        },
        "outputId": "ba87c655-4813-48ca-ef54-44622d68aee8"
      },
      "execution_count": null,
      "outputs": [
        {
          "output_type": "stream",
          "name": "stdout",
          "text": [
            "Enter the limit to generate prime numbers up to: 10\n",
            "Prime numbers up to 10 are:\n",
            "[2, 3, 5, 7, 9]\n"
          ]
        }
      ]
    },
    {
      "cell_type": "code",
      "source": [
        "#Q.32. Create a program that generates a list of all Pythagorean triplets up to a specified limit using list comprehension."
      ],
      "metadata": {
        "id": "o2WOx0nsxsHb"
      },
      "execution_count": null,
      "outputs": []
    },
    {
      "cell_type": "code",
      "source": [
        "# Input the limit up to which you want to find Pythagorean triplets\n",
        "limit = int(input(\"Enter the limit to generate Pythagorean triplets up to: \"))\n",
        "\n",
        "triplets = [(a, b, c) for a in range(1, limit) for b in range(a, limit) for c in range(limit) if a**2 + b**2 == c**2]\n",
        "\n",
        "print(\"Pythagorean triplets up to\", limit, \"are:\")\n",
        "for triplet in triplets:\n",
        "    print(triplet)\n",
        "\n"
      ],
      "metadata": {
        "colab": {
          "base_uri": "https://localhost:8080/"
        },
        "id": "06y2eh-tym54",
        "outputId": "7aa61238-5658-4150-b3d2-fb98fefd9c97"
      },
      "execution_count": null,
      "outputs": [
        {
          "output_type": "stream",
          "name": "stdout",
          "text": [
            "Enter the limit to generate Pythagorean triplets up to: 7\n",
            "Pythagorean triplets up to 7 are:\n",
            "(3, 4, 5)\n"
          ]
        }
      ]
    },
    {
      "cell_type": "code",
      "source": [
        "#Q.33. Develop a program that generates a list of all possible combinations of two lists using list comprehension."
      ],
      "metadata": {
        "id": "NfW3kEwd1VC4"
      },
      "execution_count": null,
      "outputs": []
    },
    {
      "cell_type": "code",
      "source": [
        "# Input two lists\n",
        "list1 = [int(x) for x in input(\"Enter elements of the first list separated by spaces: \").split()]\n",
        "list2 = [int(x) for x in input(\"Enter elements of the second list separated by spaces: \").split()]\n",
        "\n",
        "# Generate all possible combinations of elements from the two lists\n",
        "combinations = [(x, y) for x in list1 for y in list2]\n",
        "\n",
        "print(\"All possible combinations of the two lists:\")\n",
        "print(combinations)\n"
      ],
      "metadata": {
        "colab": {
          "base_uri": "https://localhost:8080/"
        },
        "id": "1mOSnIZf1o7X",
        "outputId": "731a7b83-9cb7-46df-9032-0e525328b5f3"
      },
      "execution_count": null,
      "outputs": [
        {
          "output_type": "stream",
          "name": "stdout",
          "text": [
            "Enter elements of the first list separated by spaces: 2 3 4 5 6 7 8 9 0\n",
            "Enter elements of the second list separated by spaces: 0 9 8 7 6 5 3 2 \n",
            "All possible combinations of the two lists:\n",
            "[(2, 0), (2, 9), (2, 8), (2, 7), (2, 6), (2, 5), (2, 3), (2, 2), (3, 0), (3, 9), (3, 8), (3, 7), (3, 6), (3, 5), (3, 3), (3, 2), (4, 0), (4, 9), (4, 8), (4, 7), (4, 6), (4, 5), (4, 3), (4, 2), (5, 0), (5, 9), (5, 8), (5, 7), (5, 6), (5, 5), (5, 3), (5, 2), (6, 0), (6, 9), (6, 8), (6, 7), (6, 6), (6, 5), (6, 3), (6, 2), (7, 0), (7, 9), (7, 8), (7, 7), (7, 6), (7, 5), (7, 3), (7, 2), (8, 0), (8, 9), (8, 8), (8, 7), (8, 6), (8, 5), (8, 3), (8, 2), (9, 0), (9, 9), (9, 8), (9, 7), (9, 6), (9, 5), (9, 3), (9, 2), (0, 0), (0, 9), (0, 8), (0, 7), (0, 6), (0, 5), (0, 3), (0, 2)]\n"
          ]
        }
      ]
    },
    {
      "cell_type": "code",
      "source": [
        "#Q.34. Write a program that calculates the mean, median, and mode of a list of numbers using list comprehension."
      ],
      "metadata": {
        "id": "oit60mUZ2U4w"
      },
      "execution_count": null,
      "outputs": []
    },
    {
      "cell_type": "code",
      "source": [
        "# Sample list of numbers\n",
        "numbers = [1, 2, 2, 3, 4, 5, 5, 6, 7, 8, 8, 9]\n",
        "\n",
        "# Calculate the mean using a loop\n",
        "sum_of_numbers = 0\n",
        "for num in numbers:\n",
        "    sum_of_numbers += num\n",
        "mean_value = sum_of_numbers / len(numbers)\n",
        "\n",
        "# Calculate the median using a loop\n",
        "sorted_numbers = sorted(numbers)\n",
        "if len(sorted_numbers) % 2 == 0:\n",
        "    middle1 = sorted_numbers[len(sorted_numbers) // 2 - 1]\n",
        "    middle2 = sorted_numbers[len(sorted_numbers) // 2]\n",
        "    median_value = (middle1 + middle2) / 2\n",
        "else:\n",
        "    median_value = sorted_numbers[len(sorted_numbers) // 2]\n",
        "\n",
        "# Calculate the mode using a loop\n",
        "number_counts = {}\n",
        "for num in numbers:\n",
        "    if num in number_counts:\n",
        "        number_counts[num] += 1\n",
        "    else:\n",
        "        number_counts[num] = 1\n",
        "\n",
        "mode_value = None\n",
        "max_count = 0\n",
        "for num, count in number_counts.items():\n",
        "    if count > max_count:\n",
        "        mode_value = num\n",
        "        max_count = count\n",
        "\n",
        "print(f\"Mean: {mean_value}\")\n",
        "print(f\"Median: {median_value}\")\n",
        "print(f\"Mode: {mode_value}\")\n"
      ],
      "metadata": {
        "id": "_vkWcEik2diZ"
      },
      "execution_count": null,
      "outputs": []
    },
    {
      "cell_type": "code",
      "source": [
        "#Q.35. Create a program that generates Pascal's triangle up to a specified number of rows using list comprehension."
      ],
      "metadata": {
        "id": "cBBXXxh1ZQNw"
      },
      "execution_count": null,
      "outputs": []
    },
    {
      "cell_type": "code",
      "source": [
        "# Specify the number of rows you want to generate\n",
        "num_rows = 5\n",
        "\n",
        "# Initialize Pascal's triangle\n",
        "triangle = [[1]]\n",
        "\n",
        "# Generate the remaining rows\n",
        "for _ in range(num_rows - 1):\n",
        "    last_row = triangle[-1]\n",
        "    new_row = [1] + [last_row[i] + last_row[i + 1] for i in range(len(last_row) - 1)] + [1]\n",
        "    triangle.append(new_row)\n",
        "\n",
        "# Print Pascal's triangle\n",
        "for row in triangle:\n",
        "    print(' '.join(map(str, row)).center(len(' '.join(map(str, triangle[-1])))))\n"
      ],
      "metadata": {
        "id": "7lG9tfGgZZUb"
      },
      "execution_count": null,
      "outputs": []
    },
    {
      "cell_type": "code",
      "source": [
        "#Q.36. Develop a program that calculates the sum of the digits of a factorial of numbers from 1 to 5 using list comprehension."
      ],
      "metadata": {
        "id": "7Y79Wudjd36U"
      },
      "execution_count": null,
      "outputs": []
    },
    {
      "cell_type": "code",
      "source": [
        "# Calculate the factorial of a number\n",
        "def factorial(n):\n",
        "    result = 1\n",
        "    for i in range(1, n + 1):\n",
        "        result *= i\n",
        "    return result\n",
        "\n",
        "# Calculate the sum of digits in a number\n",
        "def sum_of_digits(num):\n",
        "    digit_sum = 0\n",
        "    while num > 0:\n",
        "        digit_sum += num % 10\n",
        "        num //= 10\n",
        "    return digit_sum\n",
        "\n",
        "# Calculate the sum of digits of factorials for numbers from 1 to 5 using list comprehension\n",
        "factorial_sums = [sum_of_digits(factorial(i)) for i in range(1, 6)]\n",
        "\n",
        "# Print the results\n",
        "for i in range(1, 6):\n",
        "    print(f\"Factorial of {i}: {factorial(i)}, Sum of digits: {factorial_sums[i-1]}\")\n"
      ],
      "metadata": {
        "id": "5EU9o5h_ed2p"
      },
      "execution_count": null,
      "outputs": []
    },
    {
      "cell_type": "code",
      "source": [
        "#Q.37. Write a program that finds the longest word in a sentence using list comprehension."
      ],
      "metadata": {
        "id": "-wmhKAIIeevu"
      },
      "execution_count": null,
      "outputs": []
    },
    {
      "cell_type": "code",
      "source": [
        "# Input sentence\n",
        "a = \"pwskills is best\"\n",
        "\n",
        "# Split the sentence into words\n",
        "words = a.split()\n",
        "\n",
        "# Initialize variables to store the longest word and its length\n",
        "longest_word = \"\"\n",
        "max_length = 0\n",
        "\n",
        "# Iterate through the words to find the longest word\n",
        "for i in words:\n",
        "    if len(i) > max_length:\n",
        "        longest_word = i\n",
        "        max_length = len(i)\n",
        "\n",
        "# Print the longest word\n",
        "print(f\"The longest word in the sentence is: {longest_word}\")\n"
      ],
      "metadata": {
        "id": "IooW2Pniem3b"
      },
      "execution_count": null,
      "outputs": []
    },
    {
      "cell_type": "code",
      "source": [
        "#Q.38. Create a program that filters a list of strings to include only those with more than three vowels using list comprehension."
      ],
      "metadata": {
        "id": "pfWiyJpcfwnj"
      },
      "execution_count": null,
      "outputs": []
    },
    {
      "cell_type": "code",
      "source": [
        "# Function to count vowels in a string\n",
        "def count_vowels(string):\n",
        "    vowels = \"AEIOUaeiou\"\n",
        "    return sum(1 for char in string if char in vowels)\n",
        "\n",
        "# List of strings\n",
        "strings = [\"Hello\", \"Python\", \"OpenAI\", \"Programming\", \"Artificial Intelligence\"]\n",
        "\n",
        "# Use list comprehension to filter strings with more than three vowels\n",
        "filtered_strings = [string for string in strings if count_vowels(string) > 3]\n",
        "\n",
        "# Print the filtered strings\n",
        "print(\"Strings with more than three vowels:\", filtered_strings)\n"
      ],
      "metadata": {
        "id": "CsbOa70Jf_qD",
        "colab": {
          "base_uri": "https://localhost:8080/"
        },
        "outputId": "cc795605-5d92-4881-d9bc-b115baaefc89"
      },
      "execution_count": null,
      "outputs": [
        {
          "output_type": "stream",
          "name": "stdout",
          "text": [
            "Strings with more than three vowels: ['OpenAI', 'Artificial Intelligence']\n"
          ]
        }
      ]
    },
    {
      "cell_type": "code",
      "source": [
        "#Q.39. Develop a program that calculates the sum of the digits of numbers from 1 to 1000 using list comprehension."
      ],
      "metadata": {
        "id": "f9IWn64zFk4c"
      },
      "execution_count": null,
      "outputs": []
    },
    {
      "cell_type": "code",
      "source": [
        "# Define a function to calculate the sum of digits for a given number\n",
        "def digit_sum(number):\n",
        "    return sum(int(digit) for digit in str(number))\n",
        "\n",
        "# Use list comprehension to calculate the sum of digits for numbers from 1 to 1000\n",
        "digit_sums = [digit_sum(number) for number in range(1, 1001)]\n",
        "\n",
        "# Calculate the total sum of digit sums\n",
        "total_sum = sum(digit_sums)\n",
        "\n",
        "# Print the result\n",
        "print(\"The sum of the digits of numbers from 1 to 1000 is:\", total_sum)\n"
      ],
      "metadata": {
        "colab": {
          "base_uri": "https://localhost:8080/"
        },
        "id": "tI47CvuGFnOn",
        "outputId": "43981e03-6412-44e5-edab-704ec61e730a"
      },
      "execution_count": null,
      "outputs": [
        {
          "output_type": "stream",
          "name": "stdout",
          "text": [
            "The sum of the digits of numbers from 1 to 1000 is: 13501\n"
          ]
        }
      ]
    },
    {
      "cell_type": "code",
      "source": [
        "#Q.40. Write a program that generates a list of prime palindromic numbers using list comprehension."
      ],
      "metadata": {
        "id": "1d7q3xtl_I4W"
      },
      "execution_count": null,
      "outputs": []
    },
    {
      "cell_type": "code",
      "source": [
        "# Define a function to check if a number is prime\n",
        "def is_prime(n):\n",
        "    if n <= 1:\n",
        "        return False\n",
        "    elif n <= 3:\n",
        "        return True\n",
        "    elif n % 2 == 0 or n % 3 == 0:\n",
        "        return False\n",
        "    i = 5\n",
        "    while i * i <= n:\n",
        "        if n % i == 0 or n % (i + 2) == 0:\n",
        "            return False\n",
        "        i += 6\n",
        "    return True\n",
        "\n",
        "# Use list comprehension to generate a list of prime palindromic numbers\n",
        "prime_palindromic_numbers = [n for n in range(1, 1000) if is_prime(n) and str(n) == str(n)[::-1]]\n",
        "\n",
        "# Print the list of prime palindromic numbers\n",
        "print(\"Prime palindromic numbers:\", prime_palindromic_numbers)\n"
      ],
      "metadata": {
        "colab": {
          "base_uri": "https://localhost:8080/"
        },
        "id": "Yq7vSU8w_S2R",
        "outputId": "e35a83fc-fbec-4880-cf42-ba0a84b2ff94"
      },
      "execution_count": null,
      "outputs": [
        {
          "output_type": "stream",
          "name": "stdout",
          "text": [
            "Prime palindromic numbers: [2, 3, 5, 7, 11, 101, 131, 151, 181, 191, 313, 353, 373, 383, 727, 757, 787, 797, 919, 929]\n"
          ]
        }
      ]
    }
  ]
}
{
 "cells": [
  {
   "cell_type": "markdown",
   "id": "1e4cc314-1983-485e-bda9-0f43b687482b",
   "metadata": {},
   "source": [
    "# Python Basics Assignment Question\n",
    "Q1. Declare two variables, `x` and `y`, and assign them integer values. Swap the\n",
    "values of these variables without using any temporary variable.\n"
   ]
  },
  {
   "cell_type": "code",
   "execution_count": 1,
   "id": "8ec11345-8449-449f-b3f8-f0c907acddb7",
   "metadata": {},
   "outputs": [
    {
     "name": "stdout",
     "output_type": "stream",
     "text": [
      "Before swapping:\n",
      "x=5\n",
      "y=7\n",
      "After swapping:\n",
      "x = 7\n",
      "y = 5\n"
     ]
    }
   ],
   "source": [
    "x=5\n",
    "y=7\n",
    "\n",
    "print(\"Before swapping:\")\n",
    "print(\"x=5\")\n",
    "print(\"y=7\")\n",
    "\n",
    "x=x+y # a=12\n",
    "y=x-y # b=5\n",
    "x=x-y # a=7\n",
    "print(\"After swapping:\")\n",
    "print(\"x =\", x)\n",
    "print(\"y =\", y)"
   ]
  },
  {
   "cell_type": "markdown",
   "id": "6b6e0a4c-9055-442d-8331-5128b7ec8647",
   "metadata": {},
   "source": [
    "\n",
    "Q2. Create a program that calculates the area of a rectangle. Take the length and width as inputs from the user and store them in variables. Calculate and display the area."
   ]
  },
  {
   "cell_type": "code",
   "execution_count": 2,
   "id": "d2b3d729-6274-49d1-9271-baf2fefd7880",
   "metadata": {},
   "outputs": [
    {
     "name": "stdin",
     "output_type": "stream",
     "text": [
      "Enter the length of the rectangle:  5\n",
      "Enter the width of the rectangle:  6\n"
     ]
    },
    {
     "name": "stdout",
     "output_type": "stream",
     "text": [
      "The area of the rectangle is:  30\n"
     ]
    }
   ],
   "source": [
    "# Taking input from the user\n",
    "length =int((input(\"Enter the length of the rectangle: \")))\n",
    "width = int((input(\"Enter the width of the rectangle: \")))\n",
    "\n",
    "# formula Calculating the area\n",
    "area = length * width\n",
    "\n",
    "#  result\n",
    "print(\"The area of the rectangle is: \", area)"
   ]
  },
  {
   "cell_type": "markdown",
   "id": "df891da0-2d59-4557-bae8-b34a4c133753",
   "metadata": {},
   "source": [
    "\n",
    "Q3. Write a Python program that converts temperatures from Celsius to\n",
    "Fahrenheit. Take the temperature in Celsius as input, store it in a variable,\n",
    "convert it to Fahrenheit, and display the result."
   ]
  },
  {
   "cell_type": "code",
   "execution_count": 11,
   "id": "41568da4-e62f-4c32-9144-4f0c3b05c4cf",
   "metadata": {},
   "outputs": [
    {
     "name": "stdin",
     "output_type": "stream",
     "text": [
      "Enter the temperature in Celsius:  34\n"
     ]
    },
    {
     "name": "stdout",
     "output_type": "stream",
     "text": [
      "The temperature in Fahrenheit is: 93.2\n"
     ]
    }
   ],
   "source": [
    "# Taking input from the user\n",
    "celsius = float(input(\"Enter the temperature in Celsius: \"))\n",
    "\n",
    "# formula for Converting Celsius to Fahrenheit\n",
    "Fahrenheit = (celsius * 9/5) + 32 \n",
    "\n",
    "#  result\n",
    "print(\"The temperature in Fahrenheit is:\", Fahrenheit)"
   ]
  },
  {
   "cell_type": "markdown",
   "id": "a45c2246-fe5d-45ed-815c-b0d869b91ac6",
   "metadata": {},
   "source": [
    "# String Based Questions\n",
    "Q1. Write a Python program that takes a string as input and prints the length of the string."
   ]
  },
  {
   "cell_type": "code",
   "execution_count": 3,
   "id": "230accaf-31ff-43cd-99de-8456483f75d2",
   "metadata": {},
   "outputs": [
    {
     "name": "stdin",
     "output_type": "stream",
     "text": [
      "Enter the any String:  uday2,2,45\n"
     ]
    },
    {
     "data": {
      "text/plain": [
       "10"
      ]
     },
     "execution_count": 3,
     "metadata": {},
     "output_type": "execute_result"
    }
   ],
   "source": [
    "# Taking input from the user\n",
    "String = str(input(\"Enter the any String: \"))\n",
    "# Calculating the length of string using len() function\n",
    "len(String)"
   ]
  },
  {
   "cell_type": "markdown",
   "id": "42d3d719-2c73-43dd-8b50-74b9d72bf22b",
   "metadata": {},
   "source": [
    "\n",
    "Q2. Create a program that takes a sentence from the user and counts the number of vowels (a, e, i, o, u) in the string."
   ]
  },
  {
   "cell_type": "code",
   "execution_count": 4,
   "id": "de985188-7092-4620-9f1c-9c7286ba31fc",
   "metadata": {},
   "outputs": [
    {
     "name": "stdin",
     "output_type": "stream",
     "text": [
      "Enter a sentence:  uday patil\n"
     ]
    },
    {
     "name": "stdout",
     "output_type": "stream",
     "text": [
      "The number of vowels in the sentence is: 4\n"
     ]
    }
   ],
   "source": [
    "# Taking input from the user\n",
    "sentence = input(\"Enter a sentence: \")\n",
    "\n",
    "# Converting the sentence to lowercase for handle both uppercase and lowercase vowels\n",
    "sentence_lower = sentence.lower()\n",
    "\n",
    "# Counting the number of each vowel using the count() method\n",
    "a_count = sentence_lower.count('a')\n",
    "e_count = sentence_lower.count('e')\n",
    "i_count = sentence_lower.count('i')\n",
    "o_count = sentence_lower.count('o')\n",
    "u_count = sentence_lower.count('u')\n",
    "\n",
    "# Calculating the total vowel count\n",
    "total_vowel_count = a_count + e_count + i_count + o_count + u_count\n",
    "\n",
    "# Displaying the total vowel count\n",
    "print(\"The number of vowels in the sentence is:\", total_vowel_count)"
   ]
  },
  {
   "cell_type": "markdown",
   "id": "6b8e74ac-9c4c-4352-ae5c-fa24514b8b64",
   "metadata": {},
   "source": [
    "\n",
    "Q3. Given a string, reverse the order of characters using string slicing and print the reversed string."
   ]
  },
  {
   "cell_type": "code",
   "execution_count": 5,
   "id": "d88cfb4b-58bc-40d1-8e89-61ddad0c9139",
   "metadata": {},
   "outputs": [
    {
     "data": {
      "text/plain": [
       "'yadu'"
      ]
     },
     "execution_count": 5,
     "metadata": {},
     "output_type": "execute_result"
    }
   ],
   "source": [
    "# Take a String \n",
    "a= 'uday'\n",
    "# use slicing opration to reverse the string\n",
    "a[::-1]\n"
   ]
  },
  {
   "cell_type": "markdown",
   "id": "805d16ba-9e98-4fe7-8cce-252ae3fcef5e",
   "metadata": {},
   "source": [
    "Q.4. Write a program that takes a string as input and checks if it is a palindrome\n",
    "(reads the same forwards and backwards)."
   ]
  },
  {
   "cell_type": "code",
   "execution_count": 9,
   "id": "13589f4f-7d8b-4dc4-b684-961a1320dd50",
   "metadata": {},
   "outputs": [
    {
     "name": "stdin",
     "output_type": "stream",
     "text": [
      "Enter a string:  pop\n"
     ]
    },
    {
     "name": "stdout",
     "output_type": "stream",
     "text": [
      "The entered string is a palindrome.\n"
     ]
    }
   ],
   "source": [
    "# Taking input from the user\n",
    "string = input(\"Enter a string: \")\n",
    "\n",
    "# converting to lowercase for case-insensitive comparison\n",
    "f_string = string.lower()\n",
    "\n",
    "# Reversing the string using slicing\n",
    "r_string = f_string[::-1]\n",
    "\n",
    "# Checking if the reversed string is equal to the original string\n",
    "if f_string == r_string:\n",
    "    print(\"The entered string is a palindrome.\")\n",
    "else:\n",
    "    print(\"The entered string is not a palindrome.\")\n",
    "\n"
   ]
  },
  {
   "cell_type": "markdown",
   "id": "3275074f-9f5c-4553-9a42-7d74803453d2",
   "metadata": {},
   "source": [
    "\n",
    "Q.5. Create a program that takes a string as input and removes all the spaces from it. Print the modified string without spaces."
   ]
  },
  {
   "cell_type": "code",
   "execution_count": null,
   "id": "54fa1e15-3bd2-4836-bafd-b86d8e33798e",
   "metadata": {},
   "outputs": [
    {
     "name": "stdin",
     "output_type": "stream",
     "text": [
      "Enter a string:  uday patil\n"
     ]
    },
    {
     "name": "stdout",
     "output_type": "stream",
     "text": [
      "udaypatil\n"
     ]
    }
   ],
   "source": [
    "# Takeing the input form the user\n",
    "string = input(\"Enter a string: \")\n",
    "#using replace function remove the spaces. \n",
    "c_string = string.replace(\" \", \"\")\n",
    "# print the modified string\n",
    "print(c_string)"
   ]
  }
 ],
 "metadata": {
  "kernelspec": {
   "display_name": "Python 3 (ipykernel)",
   "language": "python",
   "name": "python3"
  },
  "language_info": {
   "codemirror_mode": {
    "name": "ipython",
    "version": 3
   },
   "file_extension": ".py",
   "mimetype": "text/x-python",
   "name": "python",
   "nbconvert_exporter": "python",
   "pygments_lexer": "ipython3",
   "version": "3.10.8"
  }
 },
 "nbformat": 4,
 "nbformat_minor": 5
}
